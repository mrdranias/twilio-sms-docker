{
 "cells": [
  {
   "cell_type": "code",
   "execution_count": 1,
   "id": "fadd7ad8-d216-4fac-b691-7139b3a81f86",
   "metadata": {},
   "outputs": [],
   "source": [
    "# Title / Prereqs\n",
    "# Jupyter SMS Sender (Twilio + HTTP API)\n",
    "# If needed, install deps in a notebook cell:\n",
    "# %pip install twilio requests python-dotenv\n",
    "\n",
    "# Imports\n",
    "import os\n",
    "import json\n",
    "from typing import Optional\n",
    "import requests\n",
    "from twilio.rest import Client\n",
    "\n",
    "try:\n",
    "    from dotenv import load_dotenv\n",
    "except ImportError:\n",
    "    load_dotenv = None"
   ]
  },
  {
   "cell_type": "code",
   "execution_count": 2,
   "id": "483006b4-5505-4aa2-94df-d66c9f4b265d",
   "metadata": {},
   "outputs": [],
   "source": [
    "# Load environment (.env) and config\n",
    "# If you keep a .env in project root, load it (optional)\n",
    "if load_dotenv:\n",
    "    load_dotenv()\n",
    "\n",
    "# Twilio credentials (either Auth Token OR API Key/Secret)\n",
    "TWILIO_ACCOUNT_SID = os.getenv(\"TWILIO_ACCOUNT_SID\")\n",
    "TWILIO_AUTH_TOKEN = os.getenv(\"TWILIO_AUTH_TOKEN\")\n",
    "TWILIO_API_KEY = os.getenv(\"TWILIO_API_KEY\")\n",
    "TWILIO_API_SECRET = os.getenv(\"TWILIO_API_SECRET\")\n",
    "\n",
    "# From settings (use one): Messaging Service SID or a From number\n",
    "TWILIO_MESSAGING_SERVICE_SID = os.getenv(\"TWILIO_MESSAGING_SERVICE_SID\")\n",
    "TWILIO_FROM_NUMBER = os.getenv(\"TWILIO_FROM_NUMBER\")\n",
    "\n",
    "# Destination and default message\n",
    "TO_NUMBER = os.getenv(\"TO_NUMBER\")  # e.g., +15551234567\n",
    "DEFAULT_MESSAGE = os.getenv(\"MESSAGE\", \"Hello from Jupyter!\")\n",
    "\n",
    "# HTTP API config (Milestone 2)\n",
    "API_BASE = os.getenv(\"SMS_API_BASE\", \"http://api:8000\")\n",
    "API_TOKEN = os.getenv(\"API_TOKEN\")  # Bearer token for your FastAPI service"
   ]
  },
  {
   "cell_type": "code",
   "execution_count": 3,
   "id": "64909910-5324-4e39-a84e-91d42ac676e4",
   "metadata": {},
   "outputs": [],
   "source": [
    "#Helper: Twilio client builder\n",
    "def make_twilio_client() -> Client:\n",
    "    if TWILIO_API_KEY and TWILIO_API_SECRET and TWILIO_ACCOUNT_SID:\n",
    "        return Client(TWILIO_API_KEY, TWILIO_API_SECRET, TWILIO_ACCOUNT_SID)\n",
    "    if TWILIO_ACCOUNT_SID and TWILIO_AUTH_TOKEN:\n",
    "        return Client(TWILIO_ACCOUNT_SID, TWILIO_AUTH_TOKEN)\n",
    "    raise RuntimeError(\n",
    "        \"Missing Twilio credentials. Set either (ACCOUNT_SID + AUTH_TOKEN) or (API_KEY + API_SECRET + ACCOUNT_SID).\"\n",
    "    )"
   ]
  },
  {
   "cell_type": "code",
   "execution_count": 4,
   "id": "c971c0e3-5e8f-4031-9b60-c6dea6e28260",
   "metadata": {},
   "outputs": [],
   "source": [
    "#Send via Twilio SDK (direct)\n",
    "def send_sms_via_twilio(to: str, body: str) -> str:\n",
    "    if not (TWILIO_MESSAGING_SERVICE_SID or TWILIO_FROM_NUMBER):\n",
    "        raise RuntimeError(\"Configure TWILIO_MESSAGING_SERVICE_SID or TWILIO_FROM_NUMBER in your environment.\")\n",
    "    client = make_twilio_client()\n",
    "    kwargs = {\"to\": to, \"body\": body}\n",
    "    if TWILIO_MESSAGING_SERVICE_SID:\n",
    "        kwargs[\"messaging_service_sid\"] = TWILIO_MESSAGING_SERVICE_SID\n",
    "    else:\n",
    "        kwargs[\"from_\"] = TWILIO_FROM_NUMBER\n",
    "    msg = client.messages.create(**kwargs)\n",
    "    return msg.sid"
   ]
  },
  {
   "cell_type": "code",
   "execution_count": 5,
   "id": "099082f2-953f-4b21-a7a9-0bfb62b47b3e",
   "metadata": {},
   "outputs": [],
   "source": [
    "#Send via HTTP API (FastAPI service)\n",
    "def send_sms_via_api(to: str, body: str, base: Optional[str] = None, token: Optional[str] = None) -> dict:\n",
    "    base = base or API_BASE\n",
    "    token = token or API_TOKEN\n",
    "    if not token:\n",
    "        raise RuntimeError(\"API_TOKEN is not set. Provide a token for the Bearer Authorization header.\")\n",
    "    url = f\"{base.rstrip('/')}/send\"\n",
    "    headers = {\n",
    "        \"Authorization\": f\"Bearer {token}\",\n",
    "        \"Content-Type\": \"application/json\",\n",
    "        \"Accept\": \"application/json\",\n",
    "    }\n",
    "    payload = {\"to\": to, \"message\": body}\n",
    "    resp = requests.post(url, headers=headers, data=json.dumps(payload), timeout=30)\n",
    "    if resp.status_code != 200:\n",
    "        raise RuntimeError(f\"API Error {resp.status_code}: {resp.text}\")\n",
    "    return resp.json()"
   ]
  },
  {
   "cell_type": "code",
   "execution_count": 6,
   "id": "a70b95db-5766-4cdc-b5b4-79e46c1d33f1",
   "metadata": {},
   "outputs": [
    {
     "name": "stdout",
     "output_type": "stream",
     "text": [
      "Attempting direct Twilio send...\n",
      "Direct Twilio send OK. SID: SM213565c22710b3d7c607807ab62678c0\n",
      "\n",
      "Attempting API send...\n",
      "API send failed: HTTPConnectionPool(host='localhost', port=8000): Max retries exceeded with url: /send (Caused by NewConnectionError('<urllib3.connection.HTTPConnection object at 0x7f3dccff4190>: Failed to establish a new connection: [Errno 111] Connection refused'))\n"
     ]
    }
   ],
   "source": [
    "to = TO_NUMBER or \"+18282902002\"  # replace if TO_NUMBER not set\n",
    "body = DEFAULT_MESSAGE\n",
    "\n",
    "print(\"Attempting direct Twilio send...\")\n",
    "try:\n",
    "    sid_direct = send_sms_via_twilio(to, body)\n",
    "    print(\"Direct Twilio send OK. SID:\", sid_direct)\n",
    "except Exception as e:\n",
    "    print(\"Direct Twilio send failed:\", e)\n",
    "\n",
    "print(\"\\nAttempting API send...\")\n",
    "try:\n",
    "    result_api = send_sms_via_api(to, body)\n",
    "    print(\"API send OK. Response:\", result_api)\n",
    "except Exception as e:\n",
    "    print(\"API send failed:\", e)"
   ]
  },
  {
   "cell_type": "code",
   "execution_count": null,
   "id": "a73a2526-5ac5-4003-81f8-249ea717d0b1",
   "metadata": {},
   "outputs": [],
   "source": []
  }
 ],
 "metadata": {
  "kernelspec": {
   "display_name": "Python 3 (ipykernel)",
   "language": "python",
   "name": "python3"
  },
  "language_info": {
   "codemirror_mode": {
    "name": "ipython",
    "version": 3
   },
   "file_extension": ".py",
   "mimetype": "text/x-python",
   "name": "python",
   "nbconvert_exporter": "python",
   "pygments_lexer": "ipython3",
   "version": "3.11.13"
  }
 },
 "nbformat": 4,
 "nbformat_minor": 5
}
